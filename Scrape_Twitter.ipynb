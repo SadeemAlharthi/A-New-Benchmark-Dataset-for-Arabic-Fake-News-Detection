{
  "nbformat": 4,
  "nbformat_minor": 0,
  "metadata": {
    "colab": {
      "name": "Scrape Twitter.ipynb",
      "provenance": [],
      "collapsed_sections": []
    },
    "kernelspec": {
      "display_name": "Python 3",
      "name": "python3"
    }
  },
  "cells": [
    {
      "cell_type": "code",
      "metadata": {
        "id": "owlEhiSRuwrT"
      },
      "source": [
        "!pip install tweepy"
      ],
      "execution_count": null,
      "outputs": []
    },
    {
      "cell_type": "code",
      "metadata": {
        "id": "1rdljEhAyaDa"
      },
      "source": [
        "# Python wrapper around Twitter API\n",
        "from google.colab import drive  # to mount Drive to Colab notebook\n",
        "\n",
        "import json\n",
        "import csv\n",
        "import time\n",
        "import tweepy\n",
        "import pandas as pd\n",
        "from time import sleep\n",
        "import datetime as dt\n"
      ],
      "execution_count": null,
      "outputs": []
    },
    {
      "cell_type": "code",
      "metadata": {
        "id": "WqQcu9Y3zFcL"
      },
      "source": [
        "\n",
        "# Connect Google Drive to Colab\n",
        "drive.mount('/content/gdrive')\n",
        "# Create a variable to store the data path on your drive\n",
        "path = ''"
      ],
      "execution_count": null,
      "outputs": []
    },
    {
      "cell_type": "markdown",
      "metadata": {
        "id": "yi3DoUIT10-8"
      },
      "source": [
        "\n",
        "**Twitter API Keys**\n",
        "\n",
        "Once you've created your application, write down the consumer key, consumer secret, access token and access token secret\n",
        "\n",
        "\n"
      ]
    },
    {
      "cell_type": "code",
      "metadata": {
        "id": "e9YyH6SmxcMX"
      },
      "source": [
        "# Loading in from csv file\n",
        "\n",
        "credentials_df = pd.read_csv('')\n"
      ],
      "execution_count": null,
      "outputs": []
    },
    {
      "cell_type": "code",
      "metadata": {
        "id": "Qd3xMN-exfE1"
      },
      "source": [
        "# Credentials from csv file\n",
        "\n",
        "consumer_key = credentials_df.loc[credentials_df['name']=='consumer_key','key'].iloc[0]\n",
        "consumer_secret = credentials_df.loc[credentials_df['name']=='consumer_secret','key'].iloc[0]\n",
        "access_token = credentials_df.loc[credentials_df['name']=='access_token','key'].iloc[0]\n",
        "access_token_secret = credentials_df.loc[credentials_df['name']=='access_secret','key'].iloc[0]\n",
        "\n",
        "auth = tweepy.OAuthHandler(consumer_key, consumer_secret)\n",
        "auth.set_access_token(access_token, access_token_secret)\n",
        "api = tweepy.API(auth)"
      ],
      "execution_count": null,
      "outputs": []
    },
    {
      "cell_type": "markdown",
      "metadata": {
        "id": "Ks908ShQ17S9"
      },
      "source": [
        "**Scrape Twitter**"
      ]
    },
    {
      "cell_type": "code",
      "metadata": {
        "id": "guM-JbJVxjKn"
      },
      "source": [
        "text_query = ['']\n",
        "\n",
        "\n",
        "\n",
        "\n",
        "\n",
        "count=1000000\n",
        "\n",
        "\n",
        "tweets_list=[]\n",
        "\n",
        "\n",
        "\n",
        "l=0\n",
        "while l < 1:\n",
        "\n",
        "  \n",
        "  #loop throughout the keyword list\n",
        "  for i in range(len(text_query)) :\n",
        "\n",
        "    try:     \n",
        "      # Scrape \n",
        "      tweets = tweepy.Cursor(api.search,q=text_query[i],lang='ar', tweet_mode='extended').items(count)\n",
        "      # Pulling information from tweets iterable object\n",
        "\n",
        "      for tweet in tweets:\n",
        "        tweets_list.append(tweet._json)\n",
        "    except BaseException as e:\n",
        "        print('failed on_status,',l,str(e))\n",
        "        time.sleep(920)\n"
      ],
      "execution_count": null,
      "outputs": []
    },
    {
      "cell_type": "code",
      "metadata": {
        "id": "qoIsugkEy86e"
      },
      "source": [
        "len(tweets_list)"
      ],
      "execution_count": null,
      "outputs": []
    },
    {
      "cell_type": "markdown",
      "metadata": {
        "id": "B_LgJuGg2H2R"
      },
      "source": [
        "**Save the tweets as json file**"
      ]
    },
    {
      "cell_type": "code",
      "metadata": {
        "id": "ShXEasitykoK"
      },
      "source": [
        "with open('', 'w') as outfile:\n",
        "   #open json file\n",
        "   json.dump(tweets_list, outfile) # write the data into json file"
      ],
      "execution_count": null,
      "outputs": []
    },
    {
      "cell_type": "code",
      "metadata": {
        "id": "ItgtHSgrQTbY"
      },
      "source": [
        "from google.colab import drive\n",
        "drive.mount('/content/drive')"
      ],
      "execution_count": null,
      "outputs": []
    },
    {
      "cell_type": "code",
      "metadata": {
        "id": "M--f0dQFXmvp"
      },
      "source": [
        "import pandas as pd\n",
        "tweets_df= pd.DataFrame(tweets_list)"
      ],
      "execution_count": null,
      "outputs": []
    },
    {
      "cell_type": "code",
      "metadata": {
        "id": "css1y1_GYqcS"
      },
      "source": [
        "tweets_df"
      ],
      "execution_count": null,
      "outputs": []
    },
    {
      "cell_type": "code",
      "metadata": {
        "id": "g-gkZ8mdXs3k"
      },
      "source": [
        "tweets_df.to_csv('')\n"
      ],
      "execution_count": null,
      "outputs": []
    }
  ]
}
